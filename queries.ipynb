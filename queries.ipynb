{
 "cells": [
  {
   "cell_type": "code",
   "execution_count": 11,
   "metadata": {},
   "outputs": [],
   "source": [
    "#Create user, activity and traclpoint documents with some dummy data: \n",
    "\n",
    "from DbConnector import DbConnector\n",
    "from example import *\n",
    "from sqlite3 import Cursor"
   ]
  },
  {
   "cell_type": "code",
   "execution_count": 61,
   "metadata": {},
   "outputs": [],
   "source": [
    "def task_1(connection: DbConnector): \n",
    "    users: Cursor = connection.db[\"user\"].find({})\n",
    "    activities: Cursor = connection.db[\"activities\"].find({})\n",
    "    trackpoints: Cursor = connection.db[\"trackpoint\"].find({})\n",
    "    print(f'Number of users: {len(list(users))}')\n",
    "    print(f'Number of activities: {len(list(activities))}')\n",
    "    print(f'Number of trackpoints: {len(list(trackpoints))}')\n",
    "    \n",
    "    "
   ]
  },
  {
   "cell_type": "code",
   "execution_count": null,
   "metadata": {},
   "outputs": [],
   "source": [
    "def task_2(connection: DbConnector): \n",
    "    users: Cursor = connection.db[\"user\"].find({})\n",
    "    \n",
    "    "
   ]
  },
  {
   "cell_type": "code",
   "execution_count": 62,
   "metadata": {},
   "outputs": [
    {
     "name": "stdout",
     "output_type": "stream",
     "text": [
      "You are connected to the database: my_db\n",
      "-----------------------------------------------\n",
      "\n",
      "Number of users: 2\n",
      "Number of activities: 2\n",
      "Number of trackpoints: 2\n",
      "\n",
      "-----------------------------------------------\n",
      "Connection to my_db-db is closed\n"
     ]
    }
   ],
   "source": [
    "def main(): \n",
    "    conn: DbConnector = DbConnector()\n",
    "    task_1(conn)\n",
    "    conn.close_connection()\n",
    "\n",
    "main()\n"
   ]
  },
  {
   "cell_type": "code",
   "execution_count": null,
   "metadata": {},
   "outputs": [],
   "source": []
  }
 ],
 "metadata": {
  "kernelspec": {
   "display_name": "Python 3",
   "language": "python",
   "name": "python3"
  },
  "language_info": {
   "codemirror_mode": {
    "name": "ipython",
    "version": 3
   },
   "file_extension": ".py",
   "mimetype": "text/x-python",
   "name": "python",
   "nbconvert_exporter": "python",
   "pygments_lexer": "ipython3",
   "version": "3.9.7"
  }
 },
 "nbformat": 4,
 "nbformat_minor": 2
}
